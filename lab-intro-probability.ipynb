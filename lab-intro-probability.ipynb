{
 "cells": [
  {
   "cell_type": "markdown",
   "metadata": {},
   "source": [
    "# Lab | Intro to Probability"
   ]
  },
  {
   "cell_type": "markdown",
   "metadata": {},
   "source": [
    "**Objective**\n",
    "\n",
    "Welcome to this Intro to Probability lab, where we explore decision-making scenarios through the lens of probability and strategic analysis. In the business world, making informed decisions is crucial, especially when faced with uncertainties. This lab focuses on scenarios where probabilistic outcomes play a significant role in shaping strategies and outcomes. Students will engage in exercises that require assessing and choosing optimal paths based on data-driven insights. The goal is to enhance your skills by applying probability concepts to solve real-world problems."
   ]
  },
  {
   "cell_type": "markdown",
   "metadata": {},
   "source": [
    "**Challenge 1**"
   ]
  },
  {
   "cell_type": "markdown",
   "metadata": {},
   "source": [
    "#### Ironhack Airlines \n",
    "\n",
    "Often Airlines sell more tickets than they have seats available, this is called overbooking. Consider the following:\n",
    "- A plane has 450 seats. \n",
    "- Based on historical data we conclude that each individual passenger has a 3% chance of missing it's flight. \n",
    "\n",
    "If the Ironhack Airlines routinely sells 460 tickets, what is the chance that they have a seats for all passenger?"
   ]
  },
  {
   "cell_type": "code",
   "execution_count": 1,
   "metadata": {},
   "outputs": [],
   "source": [
    "import scipy.stats as stats\n",
    "import math"
   ]
  },
  {
   "cell_type": "code",
   "execution_count": 21,
   "metadata": {},
   "outputs": [
    {
     "name": "stdout",
     "output_type": "stream",
     "text": [
      "Probability that 450 or fewer passengers show up: 0.8801\n"
     ]
    }
   ],
   "source": [
    "#code here\n",
    "\n",
    "# Parameters\n",
    "n = 460           # Tickets sold\n",
    "p = 0.97          # Probability a passenger shows up\n",
    "seats = 450       # Seats available\n",
    "\n",
    "# Mean and standard deviation of the binomial distribution\n",
    "mu = n * p\n",
    "sigma = math.sqrt(n * p * (1 - p))\n",
    "\n",
    "# Apply continuity correction: P(X <= 450) ≈ P(Z <= (450.5 - mu) / sigma)\n",
    "z = (seats + 0.5 - mu) / sigma\n",
    "probability = stats.norm.cdf(z)\n",
    "\n",
    "print(f\"Probability that 450 or fewer passengers show up: {probability:.4f}\")\n"
   ]
  },
  {
   "cell_type": "code",
   "execution_count": 22,
   "metadata": {},
   "outputs": [
    {
     "name": "stdout",
     "output_type": "stream",
     "text": [
      "88.01%\n"
     ]
    }
   ],
   "source": [
    "percentage = probability * 100\n",
    "print(f\"{percentage:.2f}%\")"
   ]
  },
  {
   "cell_type": "markdown",
   "metadata": {},
   "source": [
    "**Challenge 2**"
   ]
  },
  {
   "cell_type": "markdown",
   "metadata": {},
   "source": [
    "#### Ironhack Call Center "
   ]
  },
  {
   "cell_type": "markdown",
   "metadata": {},
   "source": [
    "Suppose a customer service representative at a call center is handling customer complaints. Consider the following:\n",
    "- The probability of successfully resolving a customer complaint on the first attempt is 0.3. \n",
    "\n",
    "\n",
    "What is the probability that the representative needs to make at least three attempts before successfully resolving a customer complaint?"
   ]
  },
  {
   "cell_type": "code",
   "execution_count": 28,
   "metadata": {},
   "outputs": [
    {
     "name": "stdout",
     "output_type": "stream",
     "text": [
      "Probability that at least 3 attempts are needed: 0.4900\n"
     ]
    }
   ],
   "source": [
    "#code here\n",
    "# Probability of success on a single attempt\n",
    "p = 0.3\n",
    "\n",
    "# Probability of at least 3 attempts before success\n",
    "# = P(failure on 1st and 2nd attempts) = (1 - p)^2\n",
    "probability = (1 - p) ** 2\n",
    "\n",
    "print(f\"Probability that at least 3 attempts are needed: {probability:.4f}\")\n"
   ]
  },
  {
   "cell_type": "markdown",
   "metadata": {},
   "source": [
    "**Challenge 3**"
   ]
  },
  {
   "cell_type": "markdown",
   "metadata": {},
   "source": [
    "#### Ironhack Website"
   ]
  },
  {
   "cell_type": "markdown",
   "metadata": {},
   "source": [
    "Consider a scenario related to Ironhack website traffic. Where:\n",
    "- our website takes on average 500 visits per hour.\n",
    "- the website's server is designed to handle up to 550 vists per hour.\n",
    "\n",
    "\n",
    "What is the probability of the website server being overwhelmed?"
   ]
  },
  {
   "cell_type": "code",
   "execution_count": 33,
   "metadata": {},
   "outputs": [
    {
     "name": "stdout",
     "output_type": "stream",
     "text": [
      "Probability the server is overwhelmed: 0.0120\n"
     ]
    }
   ],
   "source": [
    "#code here\n",
    "\n",
    "# Parameters\n",
    "lambda_rate = 500\n",
    "capacity = 550\n",
    "\n",
    "# Normal approximation to Poisson\n",
    "mu = lambda_rate\n",
    "sigma = math.sqrt(lambda_rate)\n",
    "\n",
    "# Continuity correction\n",
    "z = (capacity + 0.5 - mu) / sigma\n",
    "probability_overwhelmed = 1 - stats.norm.cdf(z)\n",
    "\n",
    "print(f\"Probability the server is overwhelmed: {probability_overwhelmed:.4f}\")\n"
   ]
  },
  {
   "cell_type": "markdown",
   "metadata": {},
   "source": [
    "What is the probability of being overwhelmed at some point during a day? (consider 24hours)"
   ]
  },
  {
   "cell_type": "code",
   "execution_count": 42,
   "metadata": {},
   "outputs": [
    {
     "name": "stdout",
     "output_type": "stream",
     "text": [
      "Probability of being overwhelmed at least once in 24 hours: 0.2497\n"
     ]
    }
   ],
   "source": [
    "#code here\n",
    "# Per-hour overwhelm probability\n",
    "p_hour = 0.0119\n",
    "q_hour = 1 - p_hour\n",
    "\n",
    "# Probability of no overwhelm in 24 hours\n",
    "prob_no_overwhelm = q_hour ** 24\n",
    "\n",
    "# Complement: at least one overwhelm\n",
    "prob_at_least_one = 1 - prob_no_overwhelm\n",
    "\n",
    "print(f\"Probability of being overwhelmed at least once in 24 hours: {prob_at_least_one:.4f}\")\n"
   ]
  },
  {
   "cell_type": "markdown",
   "metadata": {},
   "source": [
    "**Challenge 4**"
   ]
  },
  {
   "cell_type": "markdown",
   "metadata": {},
   "source": [
    "#### Ironhack Helpdesk"
   ]
  },
  {
   "cell_type": "markdown",
   "metadata": {},
   "source": [
    "Consider a scenario related to the time between arrivals of customers at a service desk.\n",
    "\n",
    "On average, a customers arrives every 10minutes.\n",
    "\n",
    "What is the probability that the next customer will arrive within the next 5 minutes?"
   ]
  },
  {
   "cell_type": "code",
   "execution_count": null,
   "metadata": {},
   "outputs": [
    {
     "name": "stdout",
     "output_type": "stream",
     "text": [
      "Probability that the next customer arrives within 5 minutes: 0.3935\n"
     ]
    }
   ],
   "source": [
    "\n",
    "# Rate (lambda): 1 arrival every 10 minutes\n",
    "lambd = 1 / 10  # 0.1\n",
    "t = 5  # minutes\n",
    "\n",
    "# Exponential CDF: P(T <= t) = 1 - e^(-lambda * t)\n",
    "probability = 1 - math.exp(-lambd * t)\n",
    "\n",
    "print(f\"Probability that the next customer arrives within 5 minutes: {probability:.4f}\")\n"
   ]
  },
  {
   "cell_type": "markdown",
   "metadata": {},
   "source": [
    "If there is no customer for 15minutes, employees can that a 5minutes break.\n",
    "\n",
    "What is the probability an employee taking a break?"
   ]
  },
  {
   "cell_type": "code",
   "execution_count": null,
   "metadata": {},
   "outputs": [
    {
     "name": "stdout",
     "output_type": "stream",
     "text": [
      "Probability the employee can take a break (no customer for 15 min): 0.2231\n"
     ]
    }
   ],
   "source": [
    "\n",
    "# Rate (lambda): 1 customer every 10 minutes\n",
    "lambd = 1 / 10  # 0.1\n",
    "t = 15  # minutes\n",
    "\n",
    "# Exponential survival function: P(T > t) = e^(-lambda * t)\n",
    "probability = math.exp(-lambd * t)\n",
    "\n",
    "print(f\"Probability the employee can take a break (no customer for 15 min): {probability:.4f}\")\n"
   ]
  },
  {
   "cell_type": "markdown",
   "metadata": {},
   "source": [
    "**Challenge 5**"
   ]
  },
  {
   "cell_type": "markdown",
   "metadata": {},
   "source": [
    "The weights of a certain species of birds follow a normal distribution with a mean weight of 150 grams and a standard deviation of 10 grams. \n",
    "\n",
    "- If we randomly select a bird, what is the probability that its weight is between 140 and 160 grams?"
   ]
  },
  {
   "cell_type": "code",
   "execution_count": 51,
   "metadata": {},
   "outputs": [
    {
     "name": "stdout",
     "output_type": "stream",
     "text": [
      "Probability that the bird's weight is between 140 and 160 grams: 0.6827\n"
     ]
    }
   ],
   "source": [
    "# Parameters\n",
    "mean_weight = 150  # Mean weight in grams\n",
    "std_dev_weight = 10  # Standard deviation in grams\n",
    "\n",
    "# Calculate the z-scores for 140 and 160 grams\n",
    "z1 = (140 - mean_weight) / std_dev_weight\n",
    "z2 = (160 - mean_weight) / std_dev_weight\n",
    "\n",
    "# Use the CDF to find the probabilities\n",
    "probability_between = stats.norm.cdf(z2) - stats.norm.cdf(z1)\n",
    "\n",
    "print(f\"Probability that the bird's weight is between 140 and 160 grams: {probability_between:.4f}\")"
   ]
  },
  {
   "cell_type": "markdown",
   "metadata": {},
   "source": [
    "**Challenge 6**"
   ]
  },
  {
   "cell_type": "markdown",
   "metadata": {},
   "source": [
    "If the lifetime (in hours) of a certain electronic component follows an exponential distribution with a mean lifetime of 50 hours, what is the probability that the component fails within the first 30 hours?"
   ]
  },
  {
   "cell_type": "code",
   "execution_count": 54,
   "metadata": {},
   "outputs": [
    {
     "name": "stdout",
     "output_type": "stream",
     "text": [
      "Probability that the component fails within the first 30 hours: 0.4512\n"
     ]
    }
   ],
   "source": [
    "# Mean lifetime\n",
    "mean_lifetime = 50  # hours\n",
    "\n",
    "# Rate parameter (lambda) for exponential distribution\n",
    "lambda_lifetime = 1 / mean_lifetime\n",
    "\n",
    "# Time period\n",
    "time_period = 30  # hours\n",
    "\n",
    "# Exponential CDF: P(T <= t) = 1 - e^(-lambda * t)\n",
    "probability_failure = 1 - math.exp(-lambda_lifetime * time_period)\n",
    "\n",
    "print(f\"Probability that the component fails within the first 30 hours: {probability_failure:.4f}\")"
   ]
  }
 ],
 "metadata": {
  "kernelspec": {
   "display_name": "base",
   "language": "python",
   "name": "python3"
  },
  "language_info": {
   "codemirror_mode": {
    "name": "ipython",
    "version": 3
   },
   "file_extension": ".py",
   "mimetype": "text/x-python",
   "name": "python",
   "nbconvert_exporter": "python",
   "pygments_lexer": "ipython3",
   "version": "3.12.7"
  }
 },
 "nbformat": 4,
 "nbformat_minor": 2
}
